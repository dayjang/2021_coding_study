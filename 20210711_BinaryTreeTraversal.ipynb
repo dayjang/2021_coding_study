{
 "cells": [
  {
   "cell_type": "code",
   "execution_count": null,
   "metadata": {
    "id": "3WLIA_iFSRXU"
   },
   "outputs": [],
   "source": [
    "# https://www.geeksforgeeks.org/tree-traversals-inorder-preorder-and-postorder\n",
    "# Reference"
   ]
  },
  {
   "cell_type": "code",
   "execution_count": null,
   "metadata": {
    "id": "pZeqp3rl-sCH"
   },
   "outputs": [],
   "source": [
    "# Create a Tree Node structure.\n",
    "class Node:\n",
    "    def __init__(self, key):\n",
    "        self.val = key\n",
    "        self.left = None\n",
    "        self.right = None"
   ]
  },
  {
   "cell_type": "markdown",
   "metadata": {
    "id": "rbYrk8eySwKH"
   },
   "source": [
    "<img src='https://media.geeksforgeeks.org/wp-content/cdn-uploads/2009/06/tree12.gif'>"
   ]
  },
  {
   "cell_type": "code",
   "execution_count": null,
   "metadata": {
    "colab": {
     "base_uri": "https://localhost:8080/"
    },
    "id": "yZWp9SJuKct2",
    "outputId": "144b44cf-8291-445d-9a9a-b28774c4193c"
   },
   "outputs": [
    {
     "name": "stdout",
     "output_type": "stream",
     "text": [
      "\n",
      "Inorder traversal of binary tree is\n",
      "1\n",
      "2\n",
      "4\n",
      "5\n",
      "3\n"
     ]
    }
   ],
   "source": [
    "root = Node(1)\n",
    "root.left = Node(2)\n",
    "root.right = Node(3)\n",
    "root.left.left = Node(4)\n",
    "root.left.right = Node(5)\n",
    "\n",
    "\n",
    "def printPreorder(root):\n",
    "    if root:\n",
    "        print(root.val)\n",
    "        printPreorder(root.left)\n",
    "        printPreorder(root.right)\n",
    "\n",
    "\n",
    "print(\"Preorder traversal: \")\n",
    "printPreorder(root)"
   ]
  },
  {
   "cell_type": "code",
   "execution_count": null,
   "metadata": {
    "colab": {
     "base_uri": "https://localhost:8080/"
    },
    "id": "eHCktnSbK7A_",
    "outputId": "4725d204-e051-419b-a9b9-c0d1a1ce56a4"
   },
   "outputs": [
    {
     "name": "stdout",
     "output_type": "stream",
     "text": [
      "4\n",
      "5\n",
      "2\n",
      "3\n",
      "1\n"
     ]
    }
   ],
   "source": [
    "def printPostorder(root):\n",
    "    if root:\n",
    "        printPostorder(root.left)\n",
    "        printPostorder(root.right)\n",
    "        print(root.val)\n",
    "\n",
    "\n",
    "print(\"Postorder traversal: \")\n",
    "printPostorder(root)"
   ]
  },
  {
   "cell_type": "code",
   "execution_count": null,
   "metadata": {
    "colab": {
     "base_uri": "https://localhost:8080/"
    },
    "id": "aS8-t5QFLjRX",
    "outputId": "f80b7f8c-77db-4bf0-ccd5-eac1a918cfab"
   },
   "outputs": [
    {
     "data": {
      "text/plain": [
       "[4, 2, 5, 1, 3]"
      ]
     },
     "execution_count": 10,
     "metadata": {
      "tags": []
     },
     "output_type": "execute_result"
    }
   ],
   "source": [
    "# Postorder fuction which return a list\n",
    "def printPostorder(root):\n",
    "    li = []\n",
    "    if root:\n",
    "        li.extend(printPostorder(root.left))\n",
    "        li.append(root.val)\n",
    "        li.extend(printPostorder(root.right))\n",
    "    return li\n",
    "\n",
    "\n",
    "printPostorder(root)"
   ]
  },
  {
   "cell_type": "code",
   "execution_count": null,
   "metadata": {
    "colab": {
     "base_uri": "https://localhost:8080/"
    },
    "id": "9v7I88plMBpk",
    "outputId": "516f61cd-d349-4d38-e16d-10ef3fea2c60"
   },
   "outputs": [
    {
     "data": {
      "text/plain": [
       "[4, 5, 2, 3, 1]"
      ]
     },
     "execution_count": 8,
     "metadata": {
      "tags": []
     },
     "output_type": "execute_result"
    }
   ],
   "source": [
    "# Postorder fuction which return a list - very concise version\n",
    "def printPostorder(root):\n",
    "    if root == None:\n",
    "        return []\n",
    "    return printPostorder(root.left) + printPostorder(root.right) + [root.val]\n",
    "\n",
    "\n",
    "printPostorder(root)"
   ]
  },
  {
   "cell_type": "code",
   "execution_count": null,
   "metadata": {
    "colab": {
     "base_uri": "https://localhost:8080/"
    },
    "id": "Yl8qmF1PL33H",
    "outputId": "bea73aa4-2ccc-4a19-801b-056174bd8d54"
   },
   "outputs": [
    {
     "data": {
      "text/plain": [
       "[4, 2, 5, 1, 3]"
      ]
     },
     "execution_count": 65,
     "metadata": {
      "tags": []
     },
     "output_type": "execute_result"
    }
   ],
   "source": [
    "printPreorder(root)"
   ]
  },
  {
   "cell_type": "code",
   "execution_count": null,
   "metadata": {
    "id": "ag3wI1U2L5Sk"
   },
   "outputs": [],
   "source": [
    "# https://github.com/darshann25/ProblemSolving/blob/master/algoexpert/branch_sums.py\n",
    "# Binary Tree Question - Branch Sums\n",
    "\n",
    "def branchSums(root, currSum=0):\n",
    "\n",
    "    currSum += root.val\n",
    "    if root.left == None and root.right == None:\n",
    "        return [currSum]\n",
    "\n",
    "    sums = []\n",
    "    if root.left:\n",
    "        sums += branchSums(root.left, currSum)\n",
    "    if root.right:\n",
    "        sums += branchSums(root.right, currSum)\n",
    "\n",
    "    return sums"
   ]
  },
  {
   "cell_type": "code",
   "execution_count": null,
   "metadata": {
    "colab": {
     "base_uri": "https://localhost:8080/"
    },
    "id": "6pcNleNYutop",
    "outputId": "41724fda-4473-4d19-e031-0c7cda8861b3"
   },
   "outputs": [
    {
     "data": {
      "text/plain": [
       "[7, 8, 4]"
      ]
     },
     "execution_count": 5,
     "metadata": {
      "tags": []
     },
     "output_type": "execute_result"
    }
   ],
   "source": [
    "root = Node(1)\n",
    "root.left = Node(2)\n",
    "root.right = Node(3)\n",
    "root.left.left = Node(4)\n",
    "root.left.right = Node(5)\n",
    "\n",
    "branchSums(root)"
   ]
  },
  {
   "cell_type": "code",
   "execution_count": null,
   "metadata": {
    "id": "Dd8vGPFHuwaP"
   },
   "outputs": [],
   "source": []
  }
 ],
 "metadata": {
  "colab": {
   "collapsed_sections": [],
   "name": "Untitled0.ipynb",
   "provenance": []
  },
  "kernelspec": {
   "display_name": "Python 3",
   "language": "python",
   "name": "python3"
  },
  "language_info": {
   "codemirror_mode": {
    "name": "ipython",
    "version": 3
   },
   "file_extension": ".py",
   "mimetype": "text/x-python",
   "name": "python",
   "nbconvert_exporter": "python",
   "pygments_lexer": "ipython3",
   "version": "3.6.8"
  },
  "toc": {
   "nav_menu": {},
   "number_sections": true,
   "sideBar": true,
   "skip_h1_title": false,
   "toc_cell": false,
   "toc_position": {},
   "toc_section_display": "block",
   "toc_window_display": false
  }
 },
 "nbformat": 4,
 "nbformat_minor": 1
}
